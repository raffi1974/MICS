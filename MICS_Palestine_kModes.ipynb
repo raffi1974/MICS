{
 "cells": [
  {
   "cell_type": "code",
   "execution_count": 1,
   "metadata": {},
   "outputs": [],
   "source": [
    "import pandas as pd\n",
    "import numpy as np\n",
    "import seaborn as sns\n",
    "import matplotlib.pyplot as plt\n",
    "import pyreadstat\n",
    "import os"
   ]
  },
  {
   "cell_type": "code",
   "execution_count": 2,
   "metadata": {},
   "outputs": [
    {
     "data": {
      "text/plain": [
       "['bh.sav', 'ch.sav', 'fs.sav', 'hh.sav', 'hl.sav', 'wm.sav']"
      ]
     },
     "execution_count": 2,
     "metadata": {},
     "output_type": "execute_result"
    }
   ],
   "source": [
    "pd.set_option('display.max_columns', None)\n",
    "os.chdir('C:/Users/511232/Desktop/MICS/microdata')\n",
    "[f for f in os.listdir() if 'sav' in f]"
   ]
  },
  {
   "cell_type": "code",
   "execution_count": 55,
   "metadata": {},
   "outputs": [
    {
     "name": "stdout",
     "output_type": "stream",
     "text": [
      "0 rows are dropped\n"
     ]
    }
   ],
   "source": [
    "os.chdir('C:/Users/511232/Desktop/MICS/microdata')\n",
    "df_hh,meta_hh=pyreadstat.read_sav('hh.sav', apply_value_formats=False)\n",
    "df_wm,meta_wm=pyreadstat.read_sav('wm.sav', apply_value_formats=False)\n",
    "df_hl,meta_hl=pyreadstat.read_sav('hl.sav', apply_value_formats=False)\n",
    "\n",
    "col_names_hh=meta_hh.column_names_to_labels\n",
    "col_vals_hh=meta_hh.variable_value_labels\n",
    "col_names_hl=meta_hl.column_names_to_labels\n",
    "col_vals_hl=meta_hl.variable_value_labels\n",
    "col_names_wm=meta_wm.column_names_to_labels\n",
    "col_vals_wm=meta_wm.variable_value_labels\n",
    "\n",
    "data_hh=df_hh.copy()\n",
    "data_wm=df_wm.copy()\n",
    "data_hl=df_hl.copy()\n",
    "\n",
    "#############\n",
    "\n",
    "cond_smoker_missing=((data_wm['TA1']==9) | (data_wm['TA3']==9) | (data_wm['TA5']==99)) | \\\n",
    "((data_wm['TA6']==9) | (data_wm['TA7']==9) | (data_wm['TA9']==99)) | \\\n",
    "    ((data_wm['TA10']==9) | (data_wm['TA11']==9) | (data_wm['TA13']==99))\n",
    "\n",
    "cond_smoker=(((data_wm['TA5']>0) & (data_wm['TA5']<99)) | \\\n",
    "((data_wm['TA9']>0) & (data_wm['TA9']<99)) | \\\n",
    "    ((data_wm['TA13']>0) & (data_wm['TA13']<99)))\n",
    "\n",
    "cond_non_smoker=(((data_wm['TA1']==2) | (data_wm['TA2']==0) | (data_wm['TA3']==2) | (data_wm['TA5']==0)) & \\\n",
    "((data_wm['TA6']==2) | (data_wm['TA7']==2) | (data_wm['TA9']==0)) & \\\n",
    "    ((data_wm['TA10']==2) | (data_wm['TA11']==2) | (data_wm['TA13']==0)))\n",
    "\n",
    "data_wm['Smoker']=np.select([cond_smoker_missing,cond_smoker,cond_non_smoker], \n",
    "['Missing','Smoker','Non-smoker'], default=np.nan)\n",
    "\n",
    "#create literacy\n",
    "'''literate (So if WB6A = 2 | WB6A = 3 | (WB6A = 1 & WB6B >=5) --> Literate)'''\n",
    "cond=[(data_wm['WB14']==3) | (data_wm['WB6A']==2) | (data_wm['WB6A']==3) | ((data_wm['WB6A']==1) & (data_wm['WB6B']>=5)),\n",
    "data_wm['WB14'].isna(),data_wm['WB14']==9]\n",
    "rslt=['Literate',np.nan,'No response']\n",
    "data_wm['Literacy']=np.select(cond,rslt,default='Illiterate')\n",
    "\n",
    "#create edu_level  (!!!!WARNING!!! it only applies for PALESTINE)\n",
    "edu_lev_label={1:'ISCED X',2:'ISCED 0',3:'ISCED 1',4:'ISCED 2',5:'ISCED 3',6:'ISCED 4',7:'ISCED 5',\n",
    "8:'ISCED 6',9:'ISCED 7',10:'ISCED 8',11:'Not classifiable', 12:'Not stated'}\n",
    "\n",
    "cond=[data_wm['WB5']==2,data_wm['WB5']==9,\n",
    "data_wm['WB6A']==0,data_wm['WB6A']==1,\n",
    "data_wm['WB6A']==2,data_wm['WB6A']==3]\n",
    "\n",
    "rslt=[1,12,2,3,5,8]\n",
    "\n",
    "data_wm['edu_level']=np.select(cond,rslt)\n",
    "data_wm['edu_level']=data_wm['edu_level'].map(edu_lev_label)\n",
    "\n",
    "#create Birth_Skilled_Per 'Birth attended by skilled personnels'\n",
    "'''IF (MN19A = \"?\" | MN19B = \"?\" | MN19H = \"?\" | MN19X = \"?\" | MN19Y = \"?\" | MN19NR = \"?\") Birth_Skilled_Per = 9.\n",
    "IF (MN19H = \"H\" | MN19X = \"X\" | MN19Y = \"Y\") Birth_Skilled_Per = 2.\n",
    "IF (MN19A = \"A\" | MN19B = \"B\") Birth_Skilled_Per = 1.\n",
    "'''\n",
    "Birth_Skilled_Per_label={1:'Yes', 2:'No', 9:'No repsonse'}\n",
    "cond=[(data_wm['MN19A']=='A') | (data_wm['MN19B']=='B'),\n",
    "(data_wm['MN19H']=='H') | (data_wm['MN19X']=='X') | (data_wm['MN19Y']=='Y'),\n",
    "(data_wm['MN19NR']=='?')]\n",
    "rslt=[1, 2,9]\n",
    "\n",
    "data_wm['Birth_Skilled_Per']=np.select(cond,rslt,default=np.nan)\n",
    "data_wm['Birth_Skilled_Per']=data_wm['Birth_Skilled_Per'].map(Birth_Skilled_Per_label)\n",
    "\n",
    "#agegrp5[<15,15-19,20-24,25-29,30-34,35-39,40-44,45-49,50-54,55-59,60-64,65+]\n",
    "cond=[(data_hl['HL6']>=15)&(data_hl['HL6']<=19),\n",
    "(data_hl['HL6']>=20)&(data_hl['HL6']<=24),\n",
    "(data_hl['HL6']>=25)&(data_hl['HL6']<=29),\n",
    "(data_hl['HL6']>=30)&(data_hl['HL6']<=34),\n",
    "(data_hl['HL6']>=35)&(data_hl['HL6']<=39),\n",
    "(data_hl['HL6']>=40)&(data_hl['HL6']<=44),\n",
    "(data_hl['HL6']>=45)&(data_hl['HL6']<=49),\n",
    "(data_hl['HL6']>=50)&(data_hl['HL6']<=54),\n",
    "(data_hl['HL6']>=55)&(data_hl['HL6']<=59),\n",
    "(data_hl['HL6']>=60)&(data_hl['HL6']<=64),\n",
    "data_hl['HL6']>=65,data_hl['HL6'].isna()]\n",
    "result=['15-19','20-24','25-29','30-34','35-39','40-44','45-49','50-54','55-59','60-64','65+','Missing']\n",
    "data_hl['agegrp5']=np.select(cond,result,default='<15')\n",
    "\n",
    "\n",
    "#create hh_size\n",
    "data_hh['hh_size']=np.where(data_hh['HH48']>=8, '8+',data_hh['HH48'])\n",
    "#create living_alone\n",
    "cond=[data_hh['HH48']==1,data_hh['HH48'].isna(), data_hh['HH48']>1]\n",
    "result=['alone','Missing','not alone']\n",
    "data_hh['living_alone']=np.select(cond,result)\n",
    "\n",
    "#create modern method of contraception 'modern_contraceptive'\n",
    "'''\n",
    "'CP4A': {'?': 'NO RESPONSE', 'A': 'FEMALE STERILIZATION'},\n",
    "'CP4B': {'?': 'NO RESPONSE', 'B': 'MALE STERILIZATION'},\n",
    "'CP4C': {'?': 'NO RESPONSE', 'C': 'IUD'},\n",
    "'CP4D': {'?': 'NO RESPONSE', 'D': 'INJECTABLES'},\n",
    "'CP4E': {'?': 'NO RESPONSE', 'E': 'IMPLANTS'},\n",
    "'CP4F': {'?': 'NO RESPONSE', 'F': 'PILL'},\n",
    "'CP4G': {'?': 'NO RESPONSE', 'G': 'MALE CONDOM'},\n",
    "'CP4H': {'?': 'NO RESPONSE', 'H': 'FEMALE CONDOM'},\n",
    "'CP4I': {'?': 'NO RESPONSE', 'I': 'DIAPHRAGM'},\n",
    "'CP4J': {'?': 'NO RESPONSE', 'J': 'FOAM / JELLY'}'''\n",
    "\n",
    "methods=['A','B','C','D','E','F','G','H','I','J']\n",
    "cols=['CP4A','CP4B','CP4C','CP4D','CP4E','CP4F','CP4G','CP4H','CP4I','CP4J']\n",
    "data_wm['modern_contraceptive']=data_wm[cols].apply(lambda x: int(any(x.isin(methods))), axis=1)\n",
    "modern_contraceptive_labels={0:'No', 1:'Yes'}\n",
    "data_wm['modern_contraceptive']=data_wm['modern_contraceptive'].map(modern_contraceptive_labels)\n",
    "\n",
    "#MERGE [HH ---> WM] on [HH1,HH2] to add 'HC14': 'Household owns the dwelling'\n",
    "right_df=data_hh[['HH1','HH2','HC14','HC0','HC3','WS1','EU1','WS5','WS7','WS9','WS11','HW1']]\n",
    "left_df=data_wm\n",
    "data_wm=pd.merge(left_df,right_df, how='left',on=['HH1','HH2'])\n",
    "\n",
    "#MERGE [HH ---> HL] to get 'hh_size','living_alone'\n",
    "right_df=data_hh[['HH1','HH2','hh_size','living_alone']]\n",
    "left_df=data_hl\n",
    "df_hl=pd.merge(left_df,right_df, how='left',on=['HH1','HH2'])\n",
    "\n",
    "#MERGE [HL ---> WM] to add 'hh_size','HL3'(household head relation),'HL6'(age),'hh_type'\n",
    "right_df=df_hl[['HH1','HH2','HL1','hh_size','HL3','HL6','living_alone','agegrp5']]\n",
    "left_df=data_wm\n",
    "data_wm=pd.merge(left_df,right_df, how='left', \n",
    "left_on=['HH1','HH2','LN'], right_on=['HH1','HH2','HL1'])\n",
    "\n",
    "#create head of household relationship variable as 1:HH 2:Other \n",
    "data_wm['hh_rel']=np.where(data_wm['HL3']==1,1,2)\n",
    "data_wm['hh_rel']=data_wm['hh_rel'].map({1:'Head of household', 2:'Other'})\n",
    "\n",
    "#recode NA in disability to 9\n",
    "data_wm['disability'].fillna('9', inplace = True)\n",
    "\n",
    "#get rid of 329 NAs across almost all columns\n",
    "data_wm_filtered=data_wm.dropna(axis=1, how='any')\n",
    "print(f'{data_wm.shape[0] - data_wm_filtered.shape[0]} rows are dropped')\n"
   ]
  },
  {
   "cell_type": "code",
   "execution_count": 57,
   "metadata": {},
   "outputs": [
    {
     "data": {
      "text/plain": [
       "(11464, 128)"
      ]
     },
     "execution_count": 57,
     "metadata": {},
     "output_type": "execute_result"
    }
   ],
   "source": [
    "data_wm_filtered.shape"
   ]
  },
  {
   "cell_type": "code",
   "execution_count": 50,
   "metadata": {},
   "outputs": [
    {
     "name": "stdout",
     "output_type": "stream",
     "text": [
      "11464\n"
     ]
    }
   ],
   "source": [
    "col_used=['WB18','MT1','MT2','MT3','MT11','MA1','VT21','VT1','VT9',\\\n",
    "    'windex5','disability','Smoker','Literacy','living_alone','edu_level',\\\n",
    "        'agegrp5','hh_size','modern_contraceptive',\\\n",
    "            'HC0','HC3','WS1','EU1','WS5','WS7','WS9','WS11','HW1']\n",
    "df=data_wm_filtered[col_used]\n",
    "\n",
    "print(df.shape[0])"
   ]
  },
  {
   "cell_type": "code",
   "execution_count": 52,
   "metadata": {},
   "outputs": [],
   "source": [
    "col_wm_dict=col_names_wm\n",
    "col_hh_dict=col_names_hh\n",
    "\n",
    "col_union=list(set(col_wm_dict.keys()).union(set(col_hh_dict.keys())))\n",
    "col_int=set(col_union).intersection(col_used)\n",
    "\n",
    "def merge_dict(col):\n",
    "    if col in col_wm_dict.keys():\n",
    "        return(col_wm_dict[col])\n",
    "    else:\n",
    "        return(col_hh_dict[col])\n",
    "\n",
    "col_dict={col:merge_dict(col) for col in col_int}"
   ]
  },
  {
   "cell_type": "code",
   "execution_count": 53,
   "metadata": {},
   "outputs": [
    {
     "name": "stderr",
     "output_type": "stream",
     "text": [
      "c:\\Users\\511232\\AppData\\Local\\Programs\\Python\\Python39\\lib\\site-packages\\pandas\\core\\frame.py:4441: SettingWithCopyWarning: \n",
      "A value is trying to be set on a copy of a slice from a DataFrame\n",
      "\n",
      "See the caveats in the documentation: https://pandas.pydata.org/pandas-docs/stable/user_guide/indexing.html#returning-a-view-versus-a-copy\n",
      "  return super().rename(\n"
     ]
    }
   ],
   "source": [
    "df.rename(columns=col_dict, inplace=True)"
   ]
  },
  {
   "cell_type": "code",
   "execution_count": 54,
   "metadata": {},
   "outputs": [
    {
     "name": "stdout",
     "output_type": "stream",
     "text": [
      "1.0    8684\n",
      "2.0    2443\n",
      "NaN     329\n",
      "9.0       8\n",
      "Name: Covered by health insurance, dtype: int64 \n",
      "\n",
      "0.0    7084\n",
      "1.0    2082\n",
      "2.0    1180\n",
      "3.0     771\n",
      "NaN     329\n",
      "9.0      18\n",
      "Name: Frequency of reading newspaper or magazine, dtype: int64 \n",
      "\n",
      "0.0    7420\n",
      "1.0    1830\n",
      "2.0     940\n",
      "3.0     931\n",
      "NaN     329\n",
      "9.0      14\n",
      "Name: Frequency of listening to the radio, dtype: int64 \n",
      "\n",
      "3.0    5542\n",
      "2.0    2137\n",
      "0.0    1738\n",
      "1.0    1652\n",
      "NaN     329\n",
      "9.0      66\n",
      "Name: Frequency of watching TV, dtype: int64 \n",
      "\n",
      "1.0    7455\n",
      "NaN    2708\n",
      "2.0    1294\n",
      "9.0       7\n",
      "Name: Ever used internet, dtype: int64 \n",
      "\n",
      "1.0    9602\n",
      "2.0    1523\n",
      "NaN     329\n",
      "9.0      10\n",
      "Name: Own a mobile phone, dtype: int64 \n",
      "\n",
      "1.0    6880\n",
      "3.0    4255\n",
      "NaN     329\n",
      "Name: Currently married or living with a man, dtype: int64 \n",
      "\n",
      "2.0    5921\n",
      "1.0    3513\n",
      "3.0    1098\n",
      "7.0     447\n",
      "NaN     329\n",
      "4.0     150\n",
      "9.0       6\n",
      "Name: Feeling safe at home alone after dark, dtype: int64 \n",
      "\n",
      "2.0    10824\n",
      "NaN      329\n",
      "1.0      291\n",
      "8.0       12\n",
      "9.0        8\n",
      "Name: Someone taken or tried taking something, by using force or threatening to use force, dtype: int64 \n",
      "\n",
      "2.0    10800\n",
      "NaN      329\n",
      "1.0      315\n",
      "8.0       11\n",
      "9.0        9\n",
      "Name: Physically attacked, dtype: int64 \n",
      "\n",
      "2.0    9572\n",
      "NaN    1670\n",
      "1.0     222\n",
      "Name: Functional difficulties (age 18-49 years), dtype: int64 \n",
      "\n",
      "ISCED 6       4760\n",
      "ISCED 3       3682\n",
      "ISCED 1       2625\n",
      "NaN            329\n",
      "ISCED X         65\n",
      "ISCED 0          2\n",
      "Not stated       1\n",
      "Name: edu_level, dtype: int64 \n",
      "\n",
      "3.0    4849\n",
      "2.0    4002\n",
      "1.0    1679\n",
      "4.0     803\n",
      "5.0      95\n",
      "NaN      19\n",
      "6.0      14\n",
      "7.0       3\n",
      "Name: Number of rooms used for sleeping, dtype: int64 \n",
      "\n",
      "NaN     10811\n",
      "1.0       299\n",
      "4.0        68\n",
      "6.0        64\n",
      "3.0        62\n",
      "5.0        45\n",
      "7.0        35\n",
      "2.0        31\n",
      "8.0        28\n",
      "9.0         8\n",
      "12.0        8\n",
      "11.0        2\n",
      "13.0        2\n",
      "10.0        1\n",
      "Name: Person collecting water, dtype: int64 \n",
      "\n"
     ]
    }
   ],
   "source": [
    "col=df.isna().sum()[df.isna().sum()>0].index\n",
    "\n",
    "for c in col:\n",
    "    print(df[c].value_counts(dropna=False),'\\n')"
   ]
  },
  {
   "cell_type": "code",
   "execution_count": null,
   "metadata": {},
   "outputs": [],
   "source": []
  },
  {
   "cell_type": "code",
   "execution_count": null,
   "metadata": {},
   "outputs": [],
   "source": []
  }
 ],
 "metadata": {
  "kernelspec": {
   "display_name": "Python 3.9.5 64-bit",
   "language": "python",
   "name": "python3"
  },
  "language_info": {
   "codemirror_mode": {
    "name": "ipython",
    "version": 3
   },
   "file_extension": ".py",
   "mimetype": "text/x-python",
   "name": "python",
   "nbconvert_exporter": "python",
   "pygments_lexer": "ipython3",
   "version": "3.9.5"
  },
  "orig_nbformat": 4,
  "vscode": {
   "interpreter": {
    "hash": "169bc59016e8e336f4ad0e5a16a36fd3275208f1ca947fbed5bd75de5be3f1c8"
   }
  }
 },
 "nbformat": 4,
 "nbformat_minor": 2
}
